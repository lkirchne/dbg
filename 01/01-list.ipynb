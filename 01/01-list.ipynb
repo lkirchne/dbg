{
 "cells": [
  {
   "cell_type": "markdown",
   "id": "532f03f5-474c-455f-af3f-917a723e8aea",
   "metadata": {
    "tags": []
   },
   "source": [
    "# Listen und Tupel"
   ]
  },
  {
   "cell_type": "markdown",
   "id": "d506ec06-78f8-430a-9fbf-a7d6584706cc",
   "metadata": {},
   "source": [
    "Manchmal ist es sinnvoll Daten bzw. Werte in geordneter Reihenfolge zu verwalten. Dabei können uns **Listen** oder **Tupel** helfen."
   ]
  },
  {
   "cell_type": "markdown",
   "id": "b3f92258-26c1-4a47-980c-41754dbce6db",
   "metadata": {},
   "source": [
    "## Liste"
   ]
  },
  {
   "cell_type": "markdown",
   "id": "78ebe96c-12ed-4a4e-b499-5486a0bee742",
   "metadata": {},
   "source": [
    "### (i) Was ist eine Liste?"
   ]
  },
  {
   "cell_type": "markdown",
   "id": "610e2393-815b-4341-9718-8ab459181d93",
   "metadata": {},
   "source": [
    "Wir beginnen mit der Liste. Ein Beispiel für eine Liste:"
   ]
  },
  {
   "cell_type": "code",
   "execution_count": 2,
   "id": "9f497e11-621d-406f-8f1d-6c0e23a781a4",
   "metadata": {
    "tags": []
   },
   "outputs": [],
   "source": [
    "listePlaneten = ['Merkur', 'Venus', 'Erde', 'Mars', 'Jupiter', 'Saturn', 'Uranus', 'Neptun']"
   ]
  },
  {
   "cell_type": "markdown",
   "id": "6e1575a4-a24d-4d9b-aa6e-f65e3435eb0d",
   "metadata": {},
   "source": [
    "Listen kann man mit dem `print()`-Befehl ausgeben:"
   ]
  },
  {
   "cell_type": "markdown",
   "id": "d65ef808-fd49-4314-a358-6260dd798763",
   "metadata": {},
   "source": [
    "<br/>"
   ]
  },
  {
   "cell_type": "markdown",
   "id": "5479e095-a217-4370-b9aa-d18f2067e1af",
   "metadata": {},
   "source": [
    "### (ii) Ausgabe von Listen"
   ]
  },
  {
   "cell_type": "code",
   "execution_count": 3,
   "id": "29f6edd1-7898-4dda-a2be-7b465dcf68a4",
   "metadata": {
    "tags": []
   },
   "outputs": [
    {
     "name": "stdout",
     "output_type": "stream",
     "text": [
      "['Merkur', 'Venus', 'Erde', 'Mars', 'Jupiter', 'Saturn', 'Uranus', 'Neptun']\n"
     ]
    }
   ],
   "source": [
    "print(listePlaneten)"
   ]
  },
  {
   "cell_type": "markdown",
   "id": "03485775-e531-4028-80cb-514ae0fcf184",
   "metadata": {},
   "source": [
    "Die Elemente in einer Liste können durchgezählt werden. \n",
    "\n",
    "Die Stelle 0 ist das erste Element. \n",
    "\\\n",
    "Die Stelle 1 ist das zweite Elemente usw. \n",
    "\n",
    "Die Stelle eines Elements nennt man seinen Index."
   ]
  },
  {
   "cell_type": "code",
   "execution_count": 4,
   "id": "a37c23c7-38ea-48aa-a175-fd74537398b9",
   "metadata": {
    "tags": []
   },
   "outputs": [
    {
     "name": "stdout",
     "output_type": "stream",
     "text": [
      "Index         : ['0     ', '1    ', '2    ', '3   ', '4      ', '5     ', '6     ', '7     ']\n",
      "listePlaneten : ['Merkur', 'Venus', 'Erde', 'Mars', 'Jupiter', 'Saturn', 'Uranus', 'Neptun']\n"
     ]
    }
   ],
   "source": [
    "print(\"Index         :\", ['0     ', '1    ', '2    ', '3   ', '4      ', '5     ', '6     ', '7     '])\n",
    "print(\"listePlaneten :\", listePlaneten)"
   ]
  },
  {
   "cell_type": "markdown",
   "id": "ddbc8f5d-16bb-49a7-9eec-12c6d14f818c",
   "metadata": {},
   "source": [
    "Man kann über den Index **einzelne Elemente der Liste ausgeben**:"
   ]
  },
  {
   "cell_type": "code",
   "execution_count": 5,
   "id": "517b3e18-830f-45bf-a23f-95cdccfcd0ea",
   "metadata": {
    "tags": []
   },
   "outputs": [
    {
     "name": "stdout",
     "output_type": "stream",
     "text": [
      "Erde\n"
     ]
    }
   ],
   "source": [
    "# Warum 3? Da das erste Elemente den Index 0 hat. 0, 1, 2 => 3 Element.\n",
    "print(listePlaneten[2])"
   ]
  },
  {
   "cell_type": "code",
   "execution_count": 6,
   "id": "c4647952-b6e8-4f94-8f5f-67f7dfdc2857",
   "metadata": {
    "tags": []
   },
   "outputs": [
    {
     "name": "stdout",
     "output_type": "stream",
     "text": [
      "Uranus\n"
     ]
    }
   ],
   "source": [
    "# Warum -2? Das ist das vorletzte Element der Liste. -1 => letzte\n",
    "print(listePlaneten[-2])"
   ]
  },
  {
   "cell_type": "code",
   "execution_count": 7,
   "id": "aff4b282-1d31-4583-8d46-bcca59e45a3c",
   "metadata": {
    "tags": []
   },
   "outputs": [
    {
     "name": "stdout",
     "output_type": "stream",
     "text": [
      "listePlaneten[1:4] : ['Venus', 'Erde', 'Mars']\n"
     ]
    }
   ],
   "source": [
    "teilDerListe = listePlaneten[1:4]\n",
    "print(\"listePlaneten[1:4] :\", teilDerListe)"
   ]
  },
  {
   "cell_type": "markdown",
   "id": "78e7b621-0bb6-4e4a-95ad-66d010caafb2",
   "metadata": {},
   "source": [
    "oder"
   ]
  },
  {
   "cell_type": "code",
   "execution_count": 8,
   "id": "e11aebfe-5822-4e99-9e31-ec9d1f9fac43",
   "metadata": {
    "tags": []
   },
   "outputs": [
    {
     "name": "stdout",
     "output_type": "stream",
     "text": [
      "listePlaneten[:3]  : ['Merkur', 'Venus', 'Erde']\n",
      "listePlaneten[3:]  : ['Mars', 'Jupiter', 'Saturn', 'Uranus', 'Neptun']\n",
      "listePlaneten[:-2] : ['Merkur', 'Venus', 'Erde', 'Mars', 'Jupiter', 'Saturn']\n"
     ]
    }
   ],
   "source": [
    "print(\"listePlaneten[:3]  :\", listePlaneten[:3])\n",
    "print(\"listePlaneten[3:]  :\", listePlaneten[3:])\n",
    "print(\"listePlaneten[:-2] :\", listePlaneten[:-2])"
   ]
  },
  {
   "cell_type": "markdown",
   "id": "6fac128e-8a2d-473b-85e3-786d269f6745",
   "metadata": {},
   "source": [
    "<br/>"
   ]
  },
  {
   "cell_type": "markdown",
   "id": "d8e5bdce-e82a-4600-ae46-45471f21095f",
   "metadata": {
    "tags": []
   },
   "source": [
    "### (iii) Länge einer Liste\n",
    "\n",
    "Um die **Anzahl der Elemente (Länge) einer Liste** herauszufinden, kann man den Befehl `len()` nutzen."
   ]
  },
  {
   "cell_type": "code",
   "execution_count": 23,
   "id": "32b32d9c-3ddd-4c98-a13b-0a586d8affbb",
   "metadata": {
    "tags": []
   },
   "outputs": [
    {
     "name": "stdout",
     "output_type": "stream",
     "text": [
      "8\n"
     ]
    }
   ],
   "source": [
    "print(len(listePlaneten))"
   ]
  },
  {
   "cell_type": "markdown",
   "id": "e9230920-f936-47d7-8cf9-edf04dc01f8d",
   "metadata": {},
   "source": [
    "<br/>"
   ]
  },
  {
   "cell_type": "markdown",
   "id": "4cdbaf6e-40f9-4464-9bea-70579460ddb7",
   "metadata": {
    "tags": []
   },
   "source": [
    "### (iv) Hinzufügen, entfernen oder bearbeiten einer Liste\n",
    "\n",
    "Man kann auch Elemente der **Liste hinzufügen**:"
   ]
  },
  {
   "cell_type": "code",
   "execution_count": 12,
   "id": "f8dfec0c-1576-42c3-b900-a9d4d4f9d699",
   "metadata": {
    "tags": []
   },
   "outputs": [
    {
     "name": "stdout",
     "output_type": "stream",
     "text": [
      "['Merkur', 'Venus', 'Erde', 'Mars', 'Jupiter', 'Saturn', 'Uranus', 'Neptun', 'Pluto']\n"
     ]
    }
   ],
   "source": [
    "listePlaneten.append(\"Pluto\")\n",
    "print(listePlaneten)"
   ]
  },
  {
   "cell_type": "markdown",
   "id": "e77d58ed-3a50-4ec6-99d1-7ea0186450bb",
   "metadata": {
    "tags": []
   },
   "source": [
    "oder **löschen**:"
   ]
  },
  {
   "cell_type": "code",
   "execution_count": 14,
   "id": "bf4055af-76d9-4391-b6c4-78073f8ac5d5",
   "metadata": {
    "tags": []
   },
   "outputs": [
    {
     "name": "stdout",
     "output_type": "stream",
     "text": [
      "['Merkur', 'Venus', 'Erde', 'Mars', 'Jupiter', 'Saturn', 'Uranus', 'Neptun']\n"
     ]
    }
   ],
   "source": [
    "listePlaneten.remove(\"Pluto\")\n",
    "print(listePlaneten)"
   ]
  },
  {
   "cell_type": "markdown",
   "id": "16378028-ccec-49cd-9523-71dfe5e94258",
   "metadata": {
    "tags": []
   },
   "source": [
    "oder **ändern**:"
   ]
  },
  {
   "cell_type": "code",
   "execution_count": 16,
   "id": "0b4536b2-844b-43fc-a546-37df56fd127c",
   "metadata": {
    "tags": []
   },
   "outputs": [
    {
     "name": "stdout",
     "output_type": "stream",
     "text": [
      "['Merkur', 'Venus', 'Earth', 'Mars', 'Jupiter', 'Saturn', 'Uranus', 'Neptun']\n"
     ]
    }
   ],
   "source": [
    "listePlaneten[2] = \"Earth\"\n",
    "print(listePlaneten)"
   ]
  },
  {
   "cell_type": "markdown",
   "id": "d7a1793b-a1f5-4305-bc59-d3963f580ddb",
   "metadata": {},
   "source": [
    "<br/>"
   ]
  },
  {
   "cell_type": "markdown",
   "id": "142a7e7d-7322-4d95-ab1a-cdad1d0d8a8c",
   "metadata": {
    "tags": []
   },
   "source": [
    "### (v) Handelt es sich um eine Liste?\n",
    "\n",
    "Um zu **prüfen**, ob es sich bei der **Variable um eine Liste handelt**, kann man die `type()`-Funktion benutzen:"
   ]
  },
  {
   "cell_type": "code",
   "execution_count": 18,
   "id": "0ee13061-53cf-4320-90d5-80f150d2b7ca",
   "metadata": {
    "tags": []
   },
   "outputs": [
    {
     "name": "stdout",
     "output_type": "stream",
     "text": [
      "<class 'list'>\n"
     ]
    }
   ],
   "source": [
    "print(type(listePlaneten))"
   ]
  },
  {
   "cell_type": "code",
   "execution_count": 19,
   "id": "cb82abf1-a8df-439f-b3b4-650be3a87a47",
   "metadata": {
    "tags": []
   },
   "outputs": [
    {
     "name": "stdout",
     "output_type": "stream",
     "text": [
      "listePlaneten ist eine Liste! :)\n"
     ]
    }
   ],
   "source": [
    "if type(listePlaneten) == list:\n",
    "    print(\"listePlaneten ist eine Liste! :)\")\n",
    "else:\n",
    "    print(\"listePlaneten ist keine Liste! :(\")"
   ]
  },
  {
   "cell_type": "markdown",
   "id": "1b6b9490-bb5f-4565-b351-e1f5049b8077",
   "metadata": {
    "tags": []
   },
   "source": [
    "<br/>"
   ]
  },
  {
   "cell_type": "markdown",
   "id": "02a0d824-ac2b-41da-b4c5-df2a5cd43434",
   "metadata": {},
   "source": [
    "### (vi) Elemente einer Liste automatisiert betrachten\n",
    "\n",
    "Das schöne an Listen ist, man kann über **alle seine Elemente \"laufen\" bzw. sie betrachten**, ohne vorher zu wissen, wie viele Elemente die Liste überhaupt hat."
   ]
  },
  {
   "cell_type": "code",
   "execution_count": 21,
   "id": "db119a21-17e3-4a59-ad01-695b14620253",
   "metadata": {
    "tags": []
   },
   "outputs": [
    {
     "name": "stdout",
     "output_type": "stream",
     "text": [
      "Merkur\n",
      "Venus\n",
      "Earth\n",
      "Mars\n",
      "Jupiter\n",
      "Saturn\n",
      "Uranus\n",
      "Neptun\n"
     ]
    }
   ],
   "source": [
    "# Die Elemente der Liste listePlaneten werden nacheinander betrachtet (beginnend beim ersten Element) und \n",
    "# in jedem Durchlauf das aktuelle betrachtete Element in der Variable planet gespeichert.\n",
    "for planet in listePlaneten:\n",
    "    print(planet)"
   ]
  },
  {
   "cell_type": "markdown",
   "id": "4f2ab726-20d6-4565-8cf9-944d883612fb",
   "metadata": {},
   "source": [
    "oder:"
   ]
  },
  {
   "cell_type": "code",
   "execution_count": 22,
   "id": "c0db6d24-e582-4c73-8006-9704b4b78d28",
   "metadata": {
    "tags": []
   },
   "outputs": [
    {
     "name": "stdout",
     "output_type": "stream",
     "text": [
      "Merkur\n",
      "Venus\n",
      "Earth  <-- hier lebe ich\n",
      "Mars\n",
      "Jupiter\n",
      "Saturn\n",
      "Uranus\n",
      "Neptun\n"
     ]
    }
   ],
   "source": [
    "for element in listePlaneten:\n",
    "    if element == 'Earth':\n",
    "        print(element, \" <-- hier lebe ich\")\n",
    "    else:\n",
    "        print(element)"
   ]
  },
  {
   "cell_type": "markdown",
   "id": "916048b7-a0ab-4810-8e4a-4f9238bac7a3",
   "metadata": {},
   "source": [
    "<br/>"
   ]
  },
  {
   "cell_type": "markdown",
   "id": "bdd7df30-628f-4c72-87f9-f3dd2f89864d",
   "metadata": {},
   "source": [
    "### Aufgaben\n",
    "\n",
    "<font color=red>**Aufgabe 1:**</font> Gib alle Elemente der Liste `listePlaneten` aus."
   ]
  },
  {
   "cell_type": "code",
   "execution_count": 24,
   "id": "147f101d-3dea-4df8-a4fd-201e05fa2839",
   "metadata": {
    "tags": []
   },
   "outputs": [
    {
     "data": {
      "text/plain": [
       "Ellipsis"
      ]
     },
     "execution_count": 24,
     "metadata": {},
     "output_type": "execute_result"
    }
   ],
   "source": [
    "..."
   ]
  },
  {
   "cell_type": "markdown",
   "id": "ba115b00-971f-44a4-8919-c3c335beebf4",
   "metadata": {},
   "source": [
    "Ich brauche Hilfe: [klick mich](#(i)-Was-ist-eine-Liste?)"
   ]
  },
  {
   "cell_type": "markdown",
   "id": "a1b1b98c-34ef-49ad-9b3f-f287e4ba47ca",
   "metadata": {},
   "source": [
    "<br/>"
   ]
  },
  {
   "cell_type": "markdown",
   "id": "260735a0-9e9e-48af-a12f-d59bb2b31087",
   "metadata": {},
   "source": [
    "<font color=red>**Aufgabe 2:**</font> Benenne in der Liste `listePlaneten` das Element _Earth_ in _Erde_ zurück."
   ]
  },
  {
   "cell_type": "code",
   "execution_count": 25,
   "id": "a071009a-5452-4d49-aa2d-0cd3c1c05810",
   "metadata": {
    "tags": []
   },
   "outputs": [],
   "source": [
    "#ändere Earth zu Erde zurück\n",
    "..."
   ]
  },
  {
   "cell_type": "markdown",
   "id": "55ee69c4-47a6-420f-9bc2-0d53ab162ba9",
   "metadata": {},
   "source": [
    "Ich brauche Hilfe: [klick mich](#(iv)-Hinzufügen,-entfernen-oder-bearbeiten-einer-Liste)"
   ]
  },
  {
   "cell_type": "markdown",
   "id": "4509c67b-3447-45ca-b87d-33f44415c75e",
   "metadata": {},
   "source": [
    "<br/>"
   ]
  },
  {
   "cell_type": "markdown",
   "id": "6f7d7862-bc33-4559-8dbe-0cc7e8598bda",
   "metadata": {},
   "source": [
    "<font color=red>**Aufgabe 3:**</font> Gib nur die Elemente Erde, Mars und Jupiter von der Liste `listePlaneten` aus. Die Ausgabe sollte also wie folgt aussehen:\n",
    "\n",
    "`['Erde', 'Mars', 'Jupiter']`"
   ]
  },
  {
   "cell_type": "code",
   "execution_count": 26,
   "id": "4a509d40-886a-422e-a47c-787115d27a8c",
   "metadata": {
    "tags": []
   },
   "outputs": [],
   "source": [
    "#erzeugt die Ausgabe: ['Erde', 'Mars', 'Jupiter']\n",
    "..."
   ]
  },
  {
   "cell_type": "code",
   "execution_count": null,
   "id": "e91fc3af-b21d-4262-b816-0c6ce93f3090",
   "metadata": {},
   "outputs": [],
   "source": []
  },
  {
   "cell_type": "markdown",
   "id": "9bffd84a-46a3-40bf-bd10-250e3f304dd8",
   "metadata": {},
   "source": [
    "Ich brauche Hilfe: [klick mich](#(ii)-Ausgabe-von-Listen)"
   ]
  },
  {
   "cell_type": "markdown",
   "id": "3ac5f2e7-45f4-4452-9964-0a7fdb387747",
   "metadata": {},
   "source": [
    "<br/>"
   ]
  },
  {
   "cell_type": "markdown",
   "id": "6535215d-0fc0-43e5-92a7-f07347152d6f",
   "metadata": {},
   "source": [
    "<font color=red>**Aufgabe 4:**</font> Prüfe ob die folgende Variable eine Liste ist."
   ]
  },
  {
   "cell_type": "code",
   "execution_count": 27,
   "id": "67fe3a79-c69b-4ee2-8b6d-2d4a632df96c",
   "metadata": {
    "tags": []
   },
   "outputs": [],
   "source": [
    "pruefeMich = 3\n",
    "..."
   ]
  },
  {
   "cell_type": "markdown",
   "id": "008201e0-d052-4ce9-81ec-0481b3e2feff",
   "metadata": {},
   "source": [
    "Ich brauche Hilfe: [klick mich](#(ii)-Ausgabe-von-Listen)"
   ]
  }
 ],
 "metadata": {
  "kernelspec": {
   "display_name": "Python 3 (ipykernel)",
   "language": "python",
   "name": "python3"
  },
  "language_info": {
   "codemirror_mode": {
    "name": "ipython",
    "version": 3
   },
   "file_extension": ".py",
   "mimetype": "text/x-python",
   "name": "python",
   "nbconvert_exporter": "python",
   "pygments_lexer": "ipython3",
   "version": "3.9.7"
  }
 },
 "nbformat": 4,
 "nbformat_minor": 5
}
