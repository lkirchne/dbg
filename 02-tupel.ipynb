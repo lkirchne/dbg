{
 "cells": [
  {
   "cell_type": "markdown",
   "id": "ee39bf46",
   "metadata": {},
   "source": [
    "## Tupel"
   ]
  },
  {
   "cell_type": "markdown",
   "id": "661a88dd",
   "metadata": {},
   "source": [
    "Ein Beispiel für ein Tupel:"
   ]
  },
  {
   "cell_type": "code",
   "execution_count": null,
   "id": "1fe5f686",
   "metadata": {
    "scrolled": true
   },
   "outputs": [],
   "source": [
    "tupelPlaneten = ('Merkur', 'Venus', 'Erde', 'Mars', 'Jupiter', 'Saturn', 'Uranus', 'Neptun')"
   ]
  },
  {
   "cell_type": "markdown",
   "id": "bd189111",
   "metadata": {},
   "source": [
    "Der einzige sichtbare Unterschied zwischen einer Liste und einem Tupel ist erstmal nur die Art der Klammerung (`[]` vs `()`)."
   ]
  },
  {
   "cell_type": "markdown",
   "id": "a793b430",
   "metadata": {},
   "source": [
    "### Unterschiede zwischen List und Tupel"
   ]
  },
  {
   "cell_type": "markdown",
   "id": "e162d9cc",
   "metadata": {},
   "source": [
    "Gründsätzlich kann man für Tupel genau die **gleichen Befehle wie für Listen** benutzen. Alle Befehle aus dem Kapitel Liste können somit auch auf Tupel angewendete werden. Praktisch, oder?\n",
    "\n",
    "Doch wo ist der Unterschied? Bei Tupel können die **zugewiesenen Werte** (Referenzen) **nicht mehr verändert** werden.\n",
    "\n",
    "Beispiel:"
   ]
  },
  {
   "cell_type": "code",
   "execution_count": 1,
   "id": "06b71246",
   "metadata": {},
   "outputs": [
    {
     "name": "stdout",
     "output_type": "stream",
     "text": [
      "(400, 400)\n"
     ]
    },
    {
     "ename": "TypeError",
     "evalue": "'tuple' object does not support item assignment",
     "output_type": "error",
     "traceback": [
      "\u001b[0;31m---------------------------------------------------------------------------\u001b[0m",
      "\u001b[0;31mTypeError\u001b[0m                                 Traceback (most recent call last)",
      "Cell \u001b[0;32mIn[1], line 3\u001b[0m\n\u001b[1;32m      1\u001b[0m aufloesung \u001b[38;5;241m=\u001b[39m (\u001b[38;5;241m400\u001b[39m,\u001b[38;5;241m400\u001b[39m)\n\u001b[1;32m      2\u001b[0m \u001b[38;5;28mprint\u001b[39m(aufloesung)\n\u001b[0;32m----> 3\u001b[0m \u001b[43maufloesung\u001b[49m\u001b[43m[\u001b[49m\u001b[38;5;241;43m0\u001b[39;49m\u001b[43m]\u001b[49m \u001b[38;5;241m=\u001b[39m \u001b[38;5;241m500\u001b[39m \u001b[38;5;66;03m# GEHT NICHT :(\u001b[39;00m\n\u001b[1;32m      4\u001b[0m \u001b[38;5;28mprint\u001b[39m(aufloesung)\n",
      "\u001b[0;31mTypeError\u001b[0m: 'tuple' object does not support item assignment"
     ]
    }
   ],
   "source": [
    "aufloesung = (400,400)\n",
    "print(aufloesung)\n",
    "aufloesung[0] = 500 # GEHT NICHT :(\n",
    "print(aufloesung)"
   ]
  },
  {
   "cell_type": "markdown",
   "id": "1d8e4d60",
   "metadata": {},
   "source": [
    "Bei Listen geht das jedoch:"
   ]
  },
  {
   "cell_type": "code",
   "execution_count": 2,
   "id": "1fc92741",
   "metadata": {},
   "outputs": [
    {
     "name": "stdout",
     "output_type": "stream",
     "text": [
      "[400, 400]\n",
      "[500, 400]\n"
     ]
    }
   ],
   "source": [
    "aufloesung = [400,400]\n",
    "print(aufloesung)\n",
    "aufloesung[0] = 500 # GEHT :)\n",
    "print(aufloesung)"
   ]
  },
  {
   "cell_type": "markdown",
   "id": "7ff80578",
   "metadata": {},
   "source": [
    "Tupel eignen sich also für Elemente, die nach dem Initalisieren (zuweisen eines Wertes) nicht mehr geändert werden sollen.\n",
    "\\\n",
    "Dazu zählen Farben, denn z. B. die Farbe Rot soll rot bleiben :)."
   ]
  },
  {
   "cell_type": "markdown",
   "id": "3a87c34e",
   "metadata": {},
   "source": [
    "<br/>"
   ]
  },
  {
   "cell_type": "code",
   "execution_count": null,
   "id": "bc3878f9",
   "metadata": {},
   "outputs": [],
   "source": [
    "ROT   = (255,0,0)\n",
    "GRUEN = (0,255,0)\n",
    "BLAU  = (0,0,255)\n",
    "\n",
    "r,g,b = ROT # \"sequence unpacking\" genannt. Der erste Wert des Tupels wird in r gespeichert, der Zweite in g und der Dritte in b.\n",
    "print(\"rot: \", r)\n",
    "print(\"gruen: \", g)\n",
    "print(\"blau: \", b)"
   ]
  },
  {
   "cell_type": "markdown",
   "id": "d28a01de",
   "metadata": {},
   "source": [
    "<br/>"
   ]
  },
  {
   "cell_type": "markdown",
   "id": "bd102978",
   "metadata": {},
   "source": [
    "### Aufgaben"
   ]
  },
  {
   "cell_type": "markdown",
   "id": "31ff3dc0",
   "metadata": {},
   "source": [
    "<font color=red>**Aufgabe 1:**</font> Gibt es einen Unterschied zwischen einer Liste und einen Tupel? Wenn ja, welcher?"
   ]
  },
  {
   "cell_type": "markdown",
   "id": "6c4b1ca1",
   "metadata": {
    "scrolled": true
   },
   "source": [
    "Schreibe hier deine Antwort hin:"
   ]
  },
  {
   "cell_type": "markdown",
   "id": "11ac06bc",
   "metadata": {},
   "source": [
    "<br/>"
   ]
  },
  {
   "cell_type": "markdown",
   "id": "db3a5848",
   "metadata": {},
   "source": [
    "<font color=red>**Zusatzaufgabe:**</font> Erstelle selber ein Tupel und wende ein paar Funktionen auf das Tupel an.\n",
    "Füge deinen Quellcode hier ein:"
   ]
  },
  {
   "cell_type": "code",
   "execution_count": null,
   "id": "fba9ac5e",
   "metadata": {
    "scrolled": true
   },
   "outputs": [],
   "source": [
    "..."
   ]
  },
  {
   "cell_type": "markdown",
   "id": "1d38a6cc",
   "metadata": {},
   "source": [
    "<br/>"
   ]
  }
 ],
 "metadata": {
  "kernelspec": {
   "display_name": "Python 3 (ipykernel)",
   "language": "python",
   "name": "python3"
  },
  "language_info": {
   "codemirror_mode": {
    "name": "ipython",
    "version": 3
   },
   "file_extension": ".py",
   "mimetype": "text/x-python",
   "name": "python",
   "nbconvert_exporter": "python",
   "pygments_lexer": "ipython3",
   "version": "3.9.7"
  }
 },
 "nbformat": 4,
 "nbformat_minor": 5
}
