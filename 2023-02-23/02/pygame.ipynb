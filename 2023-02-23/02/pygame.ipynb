{
 "cells": [
  {
   "cell_type": "markdown",
   "id": "731423de",
   "metadata": {},
   "source": [
    "Ein pygame-Programm startet immer mit folgenden Block"
   ]
  },
  {
   "cell_type": "code",
   "execution_count": 1,
   "id": "ae8a17e5",
   "metadata": {},
   "outputs": [
    {
     "name": "stdout",
     "output_type": "stream",
     "text": [
      "pygame 2.1.3 (SDL 2.0.22, Python 3.11.2)\n",
      "Hello from the pygame community. https://www.pygame.org/contribute.html\n"
     ]
    },
    {
     "data": {
      "text/plain": [
       "(5, 0)"
      ]
     },
     "execution_count": 1,
     "metadata": {},
     "output_type": "execute_result"
    }
   ],
   "source": [
    "import pygame\n",
    "pygame.init()"
   ]
  },
  {
   "cell_type": "markdown",
   "id": "6b575332",
   "metadata": {},
   "source": [
    "Um die Auflösung bzw. Fenstergröße einzustellen, benutz man `pygame.display.set_model(TUPEL)`"
   ]
  },
  {
   "cell_type": "code",
   "execution_count": null,
   "id": "96dec0ad",
   "metadata": {},
   "outputs": [],
   "source": [
    "# Setze die Auflösung auf 500x500 Pixel\n",
    "screensize = (500,500) # (breite,hoehe)\n",
    "screen = pygame.display.set_mode(screensize)"
   ]
  },
  {
   "cell_type": "markdown",
   "id": "3e74b0c0",
   "metadata": {},
   "source": [
    "In dem folgenden Teil passiert die eigentliche Logik des Spiels. Hier wird der Bildschirm weiß eingefärbt und dann ein Kreis gezeichnet. Mit dem Befehl `flip()` wird das gezeichnete bzw. gebufferte Bild an die Grafikkarte weitergegeben und auf dem Bildschirm angezeigt."
   ]
  },
  {
   "cell_type": "code",
   "execution_count": null,
   "id": "6a27528f",
   "metadata": {},
   "outputs": [],
   "source": [
    "\n",
    "running = True\n",
    "while running:\n",
    "    for event in pygame.event.get():\n",
    "        if event.type == pygame.QUIT:\n",
    "            # Quit Button (x) wurde gedrueckt\n",
    "            # => beende die while Schleife\n",
    "            running = False\n",
    "    \n",
    "    #setze die Hintergrundfarbe auf (255,255,255) = (R,G,B) = weiss\n",
    "    screen.fill((255,255,255))\n",
    "    \n",
    "    #male einen Kreis mit (Screen, Farbe, Kreismittelpunkt, Radius)\n",
    "    pygame.draw.circle(screen,(0,0,255),(250,250), 75)\n",
    "    \n",
    "    #erneuere die Anzeige auf dem Bildschirm\n",
    "    pygame.display.flip()"
   ]
  },
  {
   "cell_type": "markdown",
   "id": "2f03a630",
   "metadata": {},
   "source": [
    "Um das Programm zu schließen bzw. den Prozess zu stoppen, wird die Funktion `pygame.quit()` aufgerufen. Dies sollte immer am Ende des Programms bzw. nach der Endlosschleife `while running:` passieren"
   ]
  },
  {
   "cell_type": "code",
   "execution_count": null,
   "id": "e86e1f93",
   "metadata": {},
   "outputs": [],
   "source": [
    "\n",
    "pygame.quit()"
   ]
  },
  {
   "cell_type": "markdown",
   "id": "f9cfd4b2",
   "metadata": {},
   "source": [
    "Eine Dokumentation zu den Funktionen von pygame findest du hier:\n",
    "\n",
    "[https://www.pygame.org/docs/ref/draw.html](https://www.pygame.org/docs/ref/draw.html)"
   ]
  }
 ],
 "metadata": {
  "kernelspec": {
   "display_name": "Python 3",
   "language": "python",
   "name": "python3"
  },
  "language_info": {
   "codemirror_mode": {
    "name": "ipython",
    "version": 3
   },
   "file_extension": ".py",
   "mimetype": "text/x-python",
   "name": "python",
   "nbconvert_exporter": "python",
   "pygments_lexer": "ipython3",
   "version": "3.11.2"
  },
  "vscode": {
   "interpreter": {
    "hash": "b0fa6594d8f4cbf19f97940f81e996739fb7646882a419484c72d19e05852a7e"
   }
  }
 },
 "nbformat": 4,
 "nbformat_minor": 5
}
