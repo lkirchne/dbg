{
 "cells": [
  {
   "cell_type": "markdown",
   "id": "f52dd30d",
   "metadata": {},
   "source": [
    "# Listen und Tupel"
   ]
  },
  {
   "cell_type": "markdown",
   "id": "a371d577",
   "metadata": {},
   "source": [
    "Manchmal ist es sinnvoll Daten bzw. Werte in geordneter Reihenfolge zu verwalten. Dabei können uns **Listen** oder **Tupel** helfen."
   ]
  },
  {
   "cell_type": "markdown",
   "id": "709e918e",
   "metadata": {},
   "source": [
    "## Liste"
   ]
  },
  {
   "cell_type": "markdown",
   "id": "cb09aefc",
   "metadata": {},
   "source": [
    "### (i) Was ist eine Liste?"
   ]
  },
  {
   "cell_type": "markdown",
   "id": "92e94dda",
   "metadata": {},
   "source": [
    "Wir beginnen mit der Liste. Ein Beispiel für eine Liste:"
   ]
  },
  {
   "cell_type": "code",
   "execution_count": 8,
   "id": "673d93e6",
   "metadata": {
    "scrolled": true
   },
   "outputs": [],
   "source": [
    "listePlaneten = ['Merkur', 'Venus', 'Erde', 'Mars', 'Jupiter', 'Saturn', 'Uranus', 'Neptun']"
   ]
  },
  {
   "cell_type": "markdown",
   "id": "5bc66558",
   "metadata": {},
   "source": [
    "Listen kann man mit dem `print()`-Befehl ausgeben:"
   ]
  },
  {
   "cell_type": "markdown",
   "id": "f62abb31",
   "metadata": {},
   "source": [
    "<br/>"
   ]
  },
  {
   "cell_type": "markdown",
   "id": "63c67f3d",
   "metadata": {},
   "source": [
    "### (ii) Ausgabe von Listen"
   ]
  },
  {
   "cell_type": "code",
   "execution_count": 9,
   "id": "49827b59",
   "metadata": {
    "scrolled": true
   },
   "outputs": [
    {
     "name": "stdout",
     "output_type": "stream",
     "text": [
      "['Merkur', 'Venus', 'Erde', 'Mars', 'Jupiter', 'Saturn', 'Uranus', 'Neptun']\n"
     ]
    }
   ],
   "source": [
    "print(listePlaneten)"
   ]
  },
  {
   "cell_type": "markdown",
   "id": "b4a3df8d",
   "metadata": {},
   "source": [
    "Die Elemente in einer Liste können durchgezählt werden. \n",
    "\n",
    "Die Stelle 0 ist das erste Element. \n",
    "\\\n",
    "Die Stelle 1 ist das zweite Elemente usw. \n",
    "\n",
    "Die Stelle eines Elements nennt man seinen Index."
   ]
  },
  {
   "cell_type": "code",
   "execution_count": null,
   "id": "042b7222",
   "metadata": {
    "scrolled": true
   },
   "outputs": [],
   "source": [
    "print(\"Index         :\", ['0     ', '1    ', '2    ', '3   ', '4      ', '5     ', '6     ', '7     '])\n",
    "print(\"listePlaneten :\", listePlaneten)"
   ]
  },
  {
   "cell_type": "markdown",
   "id": "d9461e35",
   "metadata": {},
   "source": [
    "Man kann über den Index **einzelne Elemente der Liste ausgeben**:"
   ]
  },
  {
   "cell_type": "code",
   "execution_count": null,
   "id": "1bcd1dae",
   "metadata": {
    "scrolled": true
   },
   "outputs": [],
   "source": [
    "# Warum 3? Da das erste Elemente den Index 0 hat. 0, 1, 2 => 3 Element.\n",
    "print(listePlaneten[2])"
   ]
  },
  {
   "cell_type": "code",
   "execution_count": null,
   "id": "8a513c2d",
   "metadata": {
    "scrolled": true
   },
   "outputs": [],
   "source": [
    "# Warum -2? Das ist das vorletzte Element der Liste. -1 => letzte\n",
    "print(listePlaneten[-2])"
   ]
  },
  {
   "cell_type": "markdown",
   "id": "00120377",
   "metadata": {},
   "source": [
    "Man kann auch **bestimmte Elemente der Liste ausgeben** oder abspeichern. Dafür benutzt man das _Slice_-Konzept `[Von:Bis]`:"
   ]
  },
  {
   "cell_type": "code",
   "execution_count": null,
   "id": "54c974aa",
   "metadata": {
    "scrolled": true
   },
   "outputs": [],
   "source": [
    "teilDerListe = listePlaneten[1:4]\n",
    "print(\"listePlaneten[1:4] :\", teilDerListe)"
   ]
  },
  {
   "cell_type": "markdown",
   "id": "b4fb2dc7",
   "metadata": {},
   "source": [
    "oder"
   ]
  },
  {
   "cell_type": "code",
   "execution_count": null,
   "id": "8559a14e",
   "metadata": {
    "scrolled": true
   },
   "outputs": [],
   "source": [
    "print(\"listePlaneten[:3]  :\", listePlaneten[:3])\n",
    "print(\"listePlaneten[3:]  :\", listePlaneten[3:])\n",
    "print(\"listePlaneten[:-2] :\", listePlaneten[:-2])"
   ]
  },
  {
   "cell_type": "markdown",
   "id": "3094f688",
   "metadata": {},
   "source": [
    "<br/>"
   ]
  },
  {
   "cell_type": "markdown",
   "id": "e273cee5",
   "metadata": {},
   "source": [
    "### (iii) Länge einer Liste"
   ]
  },
  {
   "cell_type": "markdown",
   "id": "bb93264d",
   "metadata": {},
   "source": [
    "Um die **Anzahl der Elemente (Länge) einer Liste** herauszufinden, kann man den Befehl `len()` nutzen."
   ]
  },
  {
   "cell_type": "code",
   "execution_count": null,
   "id": "09e40bc5",
   "metadata": {
    "scrolled": true
   },
   "outputs": [],
   "source": [
    "print(len(listePlaneten))"
   ]
  },
  {
   "cell_type": "markdown",
   "id": "a4cbb01c",
   "metadata": {},
   "source": [
    "<br/>"
   ]
  },
  {
   "cell_type": "markdown",
   "id": "353036a6",
   "metadata": {},
   "source": [
    "### (iv) Hinzufügen, entfernen oder bearbeiten einer Liste"
   ]
  },
  {
   "cell_type": "markdown",
   "id": "399964c1",
   "metadata": {},
   "source": [
    "Man kann auch Elemente der **Liste hinzufügen**:"
   ]
  },
  {
   "cell_type": "code",
   "execution_count": null,
   "id": "dc422995",
   "metadata": {
    "scrolled": true
   },
   "outputs": [],
   "source": [
    "listePlaneten.append(\"Pluto\")\n",
    "print(listePlaneten)"
   ]
  },
  {
   "cell_type": "markdown",
   "id": "f1f00187",
   "metadata": {},
   "source": [
    "oder **löschen**:"
   ]
  },
  {
   "cell_type": "code",
   "execution_count": null,
   "id": "170047cc",
   "metadata": {
    "scrolled": true
   },
   "outputs": [],
   "source": [
    "listePlaneten.remove(\"Pluto\")\n",
    "print(listePlaneten)"
   ]
  },
  {
   "cell_type": "markdown",
   "id": "deaf03e8",
   "metadata": {},
   "source": [
    "oder **ändern**:"
   ]
  },
  {
   "cell_type": "code",
   "execution_count": null,
   "id": "dbc2eac1",
   "metadata": {
    "scrolled": true
   },
   "outputs": [],
   "source": [
    "listePlaneten[2] = \"Earth\"\n",
    "print(listePlaneten)"
   ]
  },
  {
   "cell_type": "markdown",
   "id": "0c0b3025",
   "metadata": {},
   "source": [
    "<br/>"
   ]
  },
  {
   "cell_type": "markdown",
   "id": "b7c87ddd",
   "metadata": {},
   "source": [
    "### (v) Handelt es sich um eine Liste?"
   ]
  },
  {
   "cell_type": "markdown",
   "id": "54bc8e54",
   "metadata": {},
   "source": [
    "Um zu **prüfen**, ob es sich bei der **Variable um eine Liste handelt**, kann man die `type()`-Funktion benutzen:"
   ]
  },
  {
   "cell_type": "code",
   "execution_count": null,
   "id": "84e2cfaa",
   "metadata": {
    "scrolled": true
   },
   "outputs": [],
   "source": [
    "print(type(listePlaneten))"
   ]
  },
  {
   "cell_type": "code",
   "execution_count": null,
   "id": "58f2df16",
   "metadata": {
    "scrolled": true
   },
   "outputs": [],
   "source": [
    "if type(listePlaneten) == list:\n",
    "    print(\"listePlaneten ist eine Liste! :)\")\n",
    "else:\n",
    "    print(\"listePlaneten ist keine Liste! :(\")"
   ]
  },
  {
   "cell_type": "markdown",
   "id": "b8b9ee0d",
   "metadata": {},
   "source": [
    "<br/>"
   ]
  },
  {
   "cell_type": "markdown",
   "id": "5a96be6f",
   "metadata": {},
   "source": [
    "### (vi) Elemente einer Liste automatisiert betrachten"
   ]
  },
  {
   "cell_type": "markdown",
   "id": "81e0cb28",
   "metadata": {},
   "source": [
    "Das schöne an Listen ist, man kann über **alle seine Elemente \"laufen\" bzw. sie betrachten**, ohne vorher zu wissen, wie viele Elemente die Liste überhaupt hat."
   ]
  },
  {
   "cell_type": "code",
   "execution_count": null,
   "id": "07a3620b",
   "metadata": {
    "scrolled": true
   },
   "outputs": [],
   "source": [
    "# Die Elemente der Liste listePlaneten werden nacheinander betrachtet (beginnend beim ersten Element) und \n",
    "# in jedem Durchlauf das aktuelle betrachtete Element in der Variable planet gespeichert.\n",
    "for planet in listePlaneten:\n",
    "    print(planet)"
   ]
  },
  {
   "cell_type": "markdown",
   "id": "63156d05",
   "metadata": {},
   "source": [
    "Oder:"
   ]
  },
  {
   "cell_type": "code",
   "execution_count": null,
   "id": "3bd54634",
   "metadata": {
    "scrolled": true
   },
   "outputs": [],
   "source": [
    "for element in listePlaneten:\n",
    "    if element == 'Earth':\n",
    "        print(element, \" <-- hier lebe ich\")\n",
    "    else:\n",
    "        print(element)"
   ]
  },
  {
   "cell_type": "markdown",
   "id": "1654e3ed",
   "metadata": {},
   "source": [
    "<br/>"
   ]
  },
  {
   "cell_type": "markdown",
   "id": "bd102978",
   "metadata": {},
   "source": [
    "### Aufgaben"
   ]
  },
  {
   "cell_type": "markdown",
   "id": "31ff3dc0",
   "metadata": {},
   "source": [
    "<font color=red>**Aufgabe 1:**</font> Gib alle Elemente der Liste `listePlaneten` aus."
   ]
  },
  {
   "cell_type": "code",
   "execution_count": null,
   "id": "6028d647",
   "metadata": {
    "scrolled": true
   },
   "outputs": [],
   "source": [
    "..."
   ]
  },
  {
   "cell_type": "markdown",
   "id": "a97982e4",
   "metadata": {},
   "source": [
    "Ich brauche Hilfe: [klick mich](#(i)-Was-ist-eine-Liste?)"
   ]
  },
  {
   "cell_type": "markdown",
   "id": "584f2db2",
   "metadata": {},
   "source": [
    "<br/>"
   ]
  },
  {
   "cell_type": "markdown",
   "id": "100abee1",
   "metadata": {},
   "source": [
    "<font color=red>**Aufgabe 2:**</font> Benenne in der Liste `listePlaneten` das Element _Earth_ in _Erde_ zurück."
   ]
  },
  {
   "cell_type": "code",
   "execution_count": null,
   "id": "22df8a57",
   "metadata": {
    "scrolled": true
   },
   "outputs": [],
   "source": [
    "#ändere Earth zu Erde zurück\n",
    "..."
   ]
  },
  {
   "cell_type": "markdown",
   "id": "bb883c25",
   "metadata": {},
   "source": [
    "Ich brauche Hilfe: [klick mich](#(iv)-Hinzufügen,-entfernen-oder-bearbeiten-einer-Liste)"
   ]
  },
  {
   "cell_type": "markdown",
   "id": "338e0c00",
   "metadata": {},
   "source": [
    "<br/>"
   ]
  },
  {
   "cell_type": "markdown",
   "id": "d4b9c21d",
   "metadata": {},
   "source": [
    "<font color=red>**Aufgabe 3:**</font> Gib nur die Elemente Erde, Mars und Jupiter von der Liste `listePlaneten` aus. Die Ausgabe sollte also wie folgt aussehen:\n",
    "\n",
    "`['Erde', 'Mars', 'Jupiter']`"
   ]
  },
  {
   "cell_type": "code",
   "execution_count": 10,
   "id": "f4b97864",
   "metadata": {
    "scrolled": true
   },
   "outputs": [],
   "source": [
    "#erzeugt die Ausgabe: ['Erde', 'Mars', 'Jupiter']\n",
    "..."
   ]
  },
  {
   "cell_type": "markdown",
   "id": "0b9f3ca2",
   "metadata": {},
   "source": [
    "Ich brauche Hilfe: [klick mich](#(ii)-Ausgabe-von-Listen)"
   ]
  },
  {
   "cell_type": "markdown",
   "id": "4ae0a837",
   "metadata": {},
   "source": [
    "<br/>"
   ]
  },
  {
   "cell_type": "markdown",
   "id": "225010aa",
   "metadata": {},
   "source": [
    "<font color=red>**Aufgabe 4:**</font> Prüfe ob die folgende Variable eine Liste ist."
   ]
  },
  {
   "cell_type": "code",
   "execution_count": 11,
   "id": "2b6072f9",
   "metadata": {
    "scrolled": true
   },
   "outputs": [],
   "source": [
    "pruefeMich = 3\n",
    "..."
   ]
  },
  {
   "cell_type": "markdown",
   "id": "c54db58b",
   "metadata": {},
   "source": [
    "Ich brauche Hilfe: [klick mich](#(ii)-Ausgabe-von-Listen)"
   ]
  },
  {
   "cell_type": "markdown",
   "id": "3aac8ecf",
   "metadata": {},
   "source": [
    "<br/>"
   ]
  },
  {
   "cell_type": "markdown",
   "id": "0763ad76",
   "metadata": {},
   "source": [
    "<font color=red>**Aufgabe 5:**</font> Erzeuge eine eigene Liste und...\n",
    "1. gib die Anzahl der Elemente der Liste aus \n",
    "2. laufe mit dem Befehl `for ...` über die Liste und denke dir aus, was man damit machen könnte. "
   ]
  },
  {
   "cell_type": "code",
   "execution_count": 12,
   "id": "dbd4e2b3",
   "metadata": {
    "scrolled": true
   },
   "outputs": [],
   "source": [
    "#Liste wird erzeugt\n",
    "\n",
    "#Ausgabe: Anzahl der Elemente in der Liste\n",
    "\n",
    "#for ..."
   ]
  },
  {
   "cell_type": "markdown",
   "id": "2b3121db",
   "metadata": {},
   "source": [
    "<br/>"
   ]
  },
  {
   "cell_type": "markdown",
   "id": "f39c5ffa",
   "metadata": {},
   "source": [
    "<font color=red>**Zusatzaufgabe:**</font> Lies dir die Dokumentation zu Listen durch und schaue, was man sonst noch so mit Listen machen kann: \n",
    "\n",
    "[Link zur Dokumentation: readthedocs.io](https://py-tutorial-de.readthedocs.io/de/python-3.3/datastructures.html#mehr-zu-listen)\n",
    "\n",
    "Füge deinen Quellcode hier ein:"
   ]
  },
  {
   "cell_type": "code",
   "execution_count": null,
   "id": "4e96bae6",
   "metadata": {
    "scrolled": true
   },
   "outputs": [],
   "source": [
    "#Erstelle deine eigene Liste\n",
    "\n",
    "#Mache etwas mit der Liste"
   ]
  },
  {
   "cell_type": "markdown",
   "id": "38b3e0ad",
   "metadata": {},
   "source": [
    "<br/>"
   ]
  }
 ],
 "metadata": {
  "kernelspec": {
   "display_name": "Python 3 (ipykernel)",
   "language": "python",
   "name": "python3"
  },
  "language_info": {
   "codemirror_mode": {
    "name": "ipython",
    "version": 3
   },
   "file_extension": ".py",
   "mimetype": "text/x-python",
   "name": "python",
   "nbconvert_exporter": "python",
   "pygments_lexer": "ipython3",
   "version": "3.9.7"
  }
 },
 "nbformat": 4,
 "nbformat_minor": 5
}
