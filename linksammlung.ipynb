{
 "cells": [
  {
   "attachments": {},
   "cell_type": "markdown",
   "metadata": {},
   "source": [
    "## Linksammlungen\n",
    "\n",
    "__Synchronisere Dateien mit Server__: [https://t1p.de/i1ypo](https://t1p.de/i1ypo)"
   ]
  }
 ],
 "metadata": {
  "language_info": {
   "name": "python"
  },
  "orig_nbformat": 4
 },
 "nbformat": 4,
 "nbformat_minor": 2
}
