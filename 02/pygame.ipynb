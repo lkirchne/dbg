{
 "cells": [
  {
   "cell_type": "code",
   "execution_count": 1,
   "id": "ae8a17e5",
   "metadata": {},
   "outputs": [
    {
     "name": "stdout",
     "output_type": "stream",
     "text": [
      "Ausgabe: Dieses Script wird in Jupyter nicht ausgeführt. Entferne diese Zeile außerhalb von Jupyter.\n"
     ]
    }
   ],
   "source": [
    "%%script echo Ausgabe: Dieses Script wird in Jupyter nicht ausgeführt. Entferne diese Zeile außerhalb von Jupyter.\n",
    "import pygame\n",
    "pygame.init()\n",
    "\n",
    "# Setze die Auflösung auf 500x500 Pixel\n",
    "screen = pygame.display.set_mode([500,500])\n",
    "\n",
    "running = True\n",
    "while running:\n",
    "    for event in pygame.event.get():\n",
    "        if event.type == pygame.QUIT:\n",
    "            # Quit Button (x) wurde gedrueckt\n",
    "            running = False\n",
    "    \n",
    "    #setze die Hintergrundfarbe auf (255,255,255) = (R,G,B) = weiss\n",
    "    screen.fill((255,255,255))\n",
    "    \n",
    "    #male einen Kreis mit (Screen, Farbe, Kreismittelpunkt, Radius)\n",
    "    pygame.draw.circle(screen, (0,0,255),(250,250), 75)\n",
    "    \n",
    "    #erneuere die Anzeige auf dem Bildschirm\n",
    "    pygame.display.flip()\n",
    "\n",
    "pygame.quit()"
   ]
  }
 ],
 "metadata": {
  "kernelspec": {
   "display_name": "Python 3 (ipykernel)",
   "language": "python",
   "name": "python3"
  },
  "language_info": {
   "codemirror_mode": {
    "name": "ipython",
    "version": 3
   },
   "file_extension": ".py",
   "mimetype": "text/x-python",
   "name": "python",
   "nbconvert_exporter": "python",
   "pygments_lexer": "ipython3",
   "version": "3.9.7"
  }
 },
 "nbformat": 4,
 "nbformat_minor": 5
}
